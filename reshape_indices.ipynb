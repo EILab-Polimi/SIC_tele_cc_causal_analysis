{
 "cells": [
  {
   "cell_type": "code",
   "execution_count": 1,
   "id": "82a92954-2279-4828-b3b7-22dccaab49fa",
   "metadata": {},
   "outputs": [],
   "source": [
    "import pandas as pd\n",
    "import numpy as np\n",
    "\n",
    "start_year = 1978\n",
    "end_year = 2020\n",
    "col_months = ['Jan', 'Feb', 'Mar', 'Apr', 'May', 'Jun', 'Jul', 'Aug', 'Sep', 'Oct', 'Nov', 'Dec']\n",
    "\n",
    "filenames = ['nino12_orig', 'nino3_orig', 'nino34_orig', 'nino4_orig']\n",
    "for filename in filenames:\n",
    "    df = pd.read_csv(f'data/{filename}.csv')\n",
    "    data = df.values[:,1]\n",
    "    reshaped = np.reshape(data, (-1,12))\n",
    "    as_df = pd.DataFrame(reshaped, columns=col_months)\n",
    "    as_df['Year'] = np.arange(start_year, end_year+1)\n",
    "    as_df = as_df[['Year'] + [col for col in as_df.columns if col != 'Year' ]]\n",
    "    as_df.to_csv(f'data/{filename}.csv', index=False)"
   ]
  },
  {
   "cell_type": "code",
   "execution_count": null,
   "id": "8ee75746-7d99-4ae4-ab13-d90a05bb9250",
   "metadata": {},
   "outputs": [],
   "source": []
  }
 ],
 "metadata": {
  "kernelspec": {
   "display_name": "Python 3 (ipykernel)",
   "language": "python",
   "name": "python3"
  },
  "language_info": {
   "codemirror_mode": {
    "name": "ipython",
    "version": 3
   },
   "file_extension": ".py",
   "mimetype": "text/x-python",
   "name": "python",
   "nbconvert_exporter": "python",
   "pygments_lexer": "ipython3",
   "version": "3.12.7"
  }
 },
 "nbformat": 4,
 "nbformat_minor": 5
}
