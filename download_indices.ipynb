{
 "cells": [
  {
   "cell_type": "code",
   "execution_count": 1,
   "id": "692ce6c0",
   "metadata": {},
   "outputs": [],
   "source": [
    "import requests\n",
    "import pandas as pd\n",
    "\n",
    "def check_line(line, years):\n",
    "    if len(line)>1:\n",
    "        if len(line.split(' ')) > 2:\n",
    "            if line.split(' ')[0] in years or line.split(' ')[1] in years:\n",
    "                return 1\n",
    "    return 0\n",
    "\n",
    "def fetch_and_save_psl_data(metadata, first_year=1978, last_year=2020):\n",
    "    columns = ['Year', 'Jan', 'Feb', 'Mar', 'Apr', 'May', 'Jun', 'Jul', 'Aug', 'Sep', 'Oct', 'Nov', 'Dec']\n",
    "    years = [str(year) for year in range(first_year, last_year+1)]\n",
    "    for savename, url in metadata.items():\n",
    "        # Fetch the data\n",
    "        response = requests.get(url)\n",
    "        if response.status_code != 200:\n",
    "            print(\"Failed to download the data, status code:\", response.status_code)\n",
    "            return\n",
    "\n",
    "        # Split the content into lines\n",
    "        data_lines = response.text.split('\\n')[:-1]\n",
    "        data_lines = list(filter(None, data_lines))\n",
    "        \n",
    "        # Filter out empty and unwanted lines\n",
    "        clean_lines = [line for line in data_lines if check_line(line, years)]\n",
    "\n",
    "        # Create an empty DataFrame with these columns\n",
    "        df = pd.DataFrame(columns=columns)\n",
    "\n",
    "        for idx, line in enumerate(clean_lines):\n",
    "            separated = line.split()\n",
    "            df.loc[idx] = separated\n",
    "\n",
    "        # Save the formatted string to a CSV file\n",
    "        df.to_csv(f'data/{savename}.csv', index=False)\n",
    "\n",
    "        print(f\"Downloaded the '{savename}' index.\")"
   ]
  },
  {
   "cell_type": "code",
   "execution_count": 2,
   "id": "62bca8b4",
   "metadata": {},
   "outputs": [
    {
     "name": "stdout",
     "output_type": "stream",
     "text": [
      "Downloaded the 'nino12' index.\n",
      "Downloaded the 'nino3' index.\n",
      "Downloaded the 'nino34' index.\n",
      "Downloaded the 'nino4' index.\n",
      "Downloaded the 'nao' index.\n",
      "Downloaded the 'ao' index.\n",
      "Downloaded the 'soi' index.\n",
      "Downloaded the 'amon' index.\n",
      "Downloaded the 'pdo' index.\n",
      "Downloaded the 'tpi' index.\n",
      "Downloaded the 'nao_ice' index.\n"
     ]
    }
   ],
   "source": [
    "indices = {\n",
    "    'nino12': 'https://psl.noaa.gov/gcos_wgsp/Timeseries/Data/nino12.long.data',\n",
    "    'nino3': 'https://psl.noaa.gov/gcos_wgsp/Timeseries/Data/nino3.long.data',\n",
    "    'nino34': 'https://psl.noaa.gov/gcos_wgsp/Timeseries/Data/nino34.long.data',\n",
    "    'nino4': 'https://psl.noaa.gov/gcos_wgsp/Timeseries/Data/nino3.long.data',\n",
    "    'nao': 'https://psl.noaa.gov/gcos_wgsp/Timeseries/Data/nao.long.data',\n",
    "    'ao': 'https://psl.noaa.gov/gcos_wgsp/Timeseries/Data/ao.long.data',\n",
    "    'soi': 'https://psl.noaa.gov/gcos_wgsp/Timeseries/Data/soi.long.data',\n",
    "    'amon': 'https://psl.noaa.gov/data/correlation//amon.us.long.data',\n",
    "    'pdo': 'https://psl.noaa.gov/gcos_wgsp/Timeseries/Data/pdo.long.data',\n",
    "    'tpi': 'https://psl.noaa.gov/gcos_wgsp/Timeseries/Data/tpi.long.data',\n",
    "    'nao_ice': 'https://psl.noaa.gov/gcos_wgsp/Timeseries/Data/nao_ice.long.data',\n",
    "}\n",
    "\n",
    "# Execute the function\n",
    "fetch_and_save_psl_data(indices)"
   ]
  },
  {
   "cell_type": "code",
   "execution_count": null,
   "id": "f1c2a0c1",
   "metadata": {},
   "outputs": [],
   "source": []
  }
 ],
 "metadata": {
  "kernelspec": {
   "display_name": "Python 3 (ipykernel)",
   "language": "python",
   "name": "python3"
  },
  "language_info": {
   "codemirror_mode": {
    "name": "ipython",
    "version": 3
   },
   "file_extension": ".py",
   "mimetype": "text/x-python",
   "name": "python",
   "nbconvert_exporter": "python",
   "pygments_lexer": "ipython3",
   "version": "3.10.13"
  }
 },
 "nbformat": 4,
 "nbformat_minor": 5
}
